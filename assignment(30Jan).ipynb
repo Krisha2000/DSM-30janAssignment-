{
 "cells": [
  {
   "cell_type": "markdown",
   "id": "4bbb4464-9d27-4e01-8a25-4187bb190169",
   "metadata": {},
   "source": [
    "# Quetion:-1"
   ]
  },
  {
   "cell_type": "markdown",
   "id": "c28feed3-ec9a-455c-bdf4-01c622996213",
   "metadata": {},
   "source": [
    "#persantage=pr\n",
    "pr=int(input(\"enter your persantage : \"))\n",
    "if pr<0 and pr>100:\n",
    "    print(\"you have entered wrong persantage\")\n",
    "else:   \n",
    "    if (pr>90):\n",
    "        print(\"You got A grade\")\n",
    "    elif (pr>80 and pr<=90):\n",
    "        print(\"You got B grade\")\n",
    "    elif (pr>=60 and pr<=80):\n",
    "        print(\"You got C grade\")   \n",
    "    else:\n",
    "        print(\"You got D grade\")       "
   ]
  },
  {
   "cell_type": "markdown",
   "id": "62b1935a-5b3d-4592-80c0-2ddebd90215d",
   "metadata": {
    "tags": []
   },
   "source": [
    "# Quetion:2\n"
   ]
  },
  {
   "cell_type": "code",
   "execution_count": 11,
   "id": "05082ccf-48a2-491c-a9b5-d91390820e27",
   "metadata": {},
   "outputs": [
    {
     "name": "stdin",
     "output_type": "stream",
     "text": [
      "enter your price of bike :  5\n"
     ]
    },
    {
     "name": "stdout",
     "output_type": "stream",
     "text": [
      "you have to pay 5% tax on it.So your tax is 0.25\n",
      "totle amount that you have to pay is  5.25\n"
     ]
    }
   ],
   "source": [
    "#costprice=cp\n",
    "cp=int(input(\"enter your price of bike : \"))\n",
    "if cp>100000:\n",
    "    print(f\"you have to pay 15% tax on it.So your tax is {cp*0.15}\")\n",
    "    print(f\"totle amount that you have to pay is  {(0.15*cp)+cp}\")\n",
    "elif cp<=100000 and cp>50000:\n",
    "    print(f\"you have to pay 10% tax on it.So your tax is {0.10*cp}\")\n",
    "    print(f\"totle amount that you have to pay is  {(0.10*cp)+cp}\")\n",
    "else:\n",
    "    print(f\"you have to pay 5% tax on it.So your tax is {0.05*cp}\")\n",
    "    print(f\"totle amount that you have to pay is  {(0.05*cp)+cp}\")   "
   ]
  },
  {
   "cell_type": "markdown",
   "id": "2eee0edd-caba-43be-a421-f74de07a7d73",
   "metadata": {},
   "source": [
    "# Quetion:-3"
   ]
  },
  {
   "cell_type": "code",
   "execution_count": 28,
   "id": "d1f4d39b-2f58-4c96-b7ec-d96ea124d1cb",
   "metadata": {},
   "outputs": [
    {
     "name": "stdout",
     "output_type": "stream",
     "text": [
      "Enter any charecter to get name of monument of that city\n"
     ]
    },
    {
     "name": "stdin",
     "output_type": "stream",
     "text": [
      "press 'd' for delhi, 'a' for agra and 'j' for jaipur k\n"
     ]
    },
    {
     "name": "stdout",
     "output_type": "stream",
     "text": [
      "you entered wrong chareccter\n"
     ]
    }
   ],
   "source": [
    "city=[\"delhi\",\"agra\",\"jaipur\"]\n",
    "monument=[\"Red fort\",\"taj Mahel\",\"Jal Mahel\"]\n",
    "print(\"Enter any charecter to get name of monument of that city\")\n",
    "\n",
    "c=input(\"press 'd' for delhi, 'a' for agra and 'j' for jaipur\")\n",
    "\n",
    "if c=='d':\n",
    "        print(f\"The monument placed in {city[0]} is {monument[0]}\")\n",
    "elif c=='a':\n",
    "        print(f\"The monument placed in {city[1]} is {monument[0]}\") \n",
    "elif c=='j':\n",
    "        print(f\"The monument placed in {city[2]} is {monument[0]}\")\n",
    "else :\n",
    "        print(\"you entered wrong charecter\")\n",
    "    \n",
    "        "
   ]
  },
  {
   "cell_type": "markdown",
   "id": "65f570dc-b479-4015-8bd6-70cb2be9016d",
   "metadata": {},
   "source": [
    "# Quetion:-4\n"
   ]
  },
  {
   "cell_type": "code",
   "execution_count": 36,
   "id": "028815e3-0784-415c-9602-9458ba2cbab6",
   "metadata": {},
   "outputs": [
    {
     "name": "stdin",
     "output_type": "stream",
     "text": [
      "enter a nomber :  63\n"
     ]
    },
    {
     "name": "stdout",
     "output_type": "stream",
     "text": [
      "This nomber can be devidedd by 2 times. After 2 times it will be less than 10\n"
     ]
    }
   ],
   "source": [
    "#nomber=n\n",
    "n=int(input(\"enter a nomber : \"))\n",
    "if n%3!=0:\n",
    "      print(\"this nomber can not devide by 3\")\n",
    "else:\n",
    "    sum=0\n",
    "    while n>10:\n",
    "        if n%3!=0:\n",
    "            print(\"this nomber can not devide by 3\")\n",
    "        else:\n",
    "            n=n/3;\n",
    "            sum=sum+1\n",
    "print(f\"This nomber can be devidedd by {sum} times. After {sum} times it will be less than 10\")"
   ]
  },
  {
   "cell_type": "markdown",
   "id": "14832565-2541-49bf-8630-1f8da4b98e95",
   "metadata": {},
   "source": [
    "# Quetion:-5"
   ]
  },
  {
   "cell_type": "code",
   "execution_count": 37,
   "id": "5ea094a9-9ca0-4226-b820-db421cb76052",
   "metadata": {},
   "outputs": [],
   "source": [
    "#A \"While\" Loop is used to repeat a specific block of code an unknown number of times, until a condition is met. \n",
    "#For example, if we want to ask a user for a number between 1 and 10, we don't know how many times the user may enter a larger number, so we keep asking \"while the number is not between 1 and 10\"."
   ]
  },
  {
   "cell_type": "markdown",
   "id": "54fdccb7-f48d-4d1d-916d-804c0ac7ccc3",
   "metadata": {},
   "source": [
    "# Quetion:-6"
   ]
  },
  {
   "cell_type": "markdown",
   "id": "0d565550-b782-481d-aec8-f85c7e1d7c56",
   "metadata": {},
   "source": [
    "Simple pyramid pattern"
   ]
  },
  {
   "cell_type": "code",
   "execution_count": 41,
   "id": "aa555ff0-f376-4f8d-a3d2-26fd62c4d55f",
   "metadata": {},
   "outputs": [
    {
     "name": "stdin",
     "output_type": "stream",
     "text": [
      "enter nomber :  3\n"
     ]
    },
    {
     "name": "stdout",
     "output_type": "stream",
     "text": [
      "*\n",
      "\n",
      "**\n",
      "\n",
      "***\n",
      "\n"
     ]
    }
   ],
   "source": [
    "n=int(input(\"enter nomber : \"))\n",
    "for i in range (1,n+1):\n",
    "    for j in range(1,i+1):\n",
    "        print(\"*\",end=\"\")\n",
    "    print(\"\\n\")   \n",
    "    "
   ]
  },
  {
   "cell_type": "markdown",
   "id": "980c5a6c-2f72-4eec-8d6e-f09a72b36f6e",
   "metadata": {},
   "source": [
    "180 degree rotation of Simple pyramid pattern"
   ]
  },
  {
   "cell_type": "code",
   "execution_count": 45,
   "id": "7cc03dee-6cde-49b4-8dcd-e49103646635",
   "metadata": {},
   "outputs": [
    {
     "name": "stdin",
     "output_type": "stream",
     "text": [
      "enter nomber :  4\n"
     ]
    },
    {
     "name": "stdout",
     "output_type": "stream",
     "text": [
      "    *\n",
      "\n",
      "\n",
      "   **\n",
      "\n",
      "\n",
      "  ***\n",
      "\n",
      "\n",
      " ****\n",
      "\n",
      "\n"
     ]
    }
   ],
   "source": [
    "n=int(input(\"enter nomber : \"))\n",
    "for i in range (1,n+1):\n",
    "    print((\" \")*(n-i),(\"*\")*i)\n",
    "    print(\"\\n\")   "
   ]
  },
  {
   "cell_type": "markdown",
   "id": "5bf8caec-21ce-48a3-bb45-470939727220",
   "metadata": {},
   "source": [
    "Perfect trigle"
   ]
  },
  {
   "cell_type": "code",
   "execution_count": 64,
   "id": "30b0653e-a80b-4b6c-8b09-7b506be59d24",
   "metadata": {},
   "outputs": [
    {
     "name": "stdin",
     "output_type": "stream",
     "text": [
      "enter any nomber :  7\n"
     ]
    },
    {
     "name": "stdout",
     "output_type": "stream",
     "text": [
      "      * \n",
      "     * * \n",
      "    * * * \n",
      "   * * * * \n",
      "  * * * * * \n",
      " * * * * * * \n",
      "* * * * * * * \n"
     ]
    }
   ],
   "source": [
    "n=int(input(\"enter any nomber : \"))\n",
    "k = n - 1\n",
    "for i in range(0, n):\n",
    "    for j in range(0, k):\n",
    "        print(end=\" \")\n",
    "    k = k - 1\n",
    "    for j in range(0, i+1):\n",
    "        print(\"*\", end=\" \")\n",
    "    print(\"\\r\")\n",
    " "
   ]
  },
  {
   "cell_type": "markdown",
   "id": "8d21e3ae-ef88-43a6-af52-bd2169e852a7",
   "metadata": {},
   "source": [
    "# Quetion:-7 and 8\n"
   ]
  },
  {
   "cell_type": "code",
   "execution_count": 65,
   "id": "e8449395-1aaa-49f6-945b-ff8744c40db6",
   "metadata": {},
   "outputs": [
    {
     "name": "stdout",
     "output_type": "stream",
     "text": [
      "10\n",
      "9\n",
      "8\n",
      "7\n",
      "6\n",
      "5\n",
      "4\n",
      "3\n",
      "2\n",
      "1\n"
     ]
    }
   ],
   "source": [
    "n=10\n",
    "while n>0:\n",
    "    print(n)\n",
    "    n=n-1"
   ]
  },
  {
   "cell_type": "code",
   "execution_count": null,
   "id": "97d3e0af-10d5-41eb-a6a4-8da01c8f2a7c",
   "metadata": {},
   "outputs": [],
   "source": []
  }
 ],
 "metadata": {
  "kernelspec": {
   "display_name": "Python 3 (ipykernel)",
   "language": "python",
   "name": "python3"
  },
  "language_info": {
   "codemirror_mode": {
    "name": "ipython",
    "version": 3
   },
   "file_extension": ".py",
   "mimetype": "text/x-python",
   "name": "python",
   "nbconvert_exporter": "python",
   "pygments_lexer": "ipython3",
   "version": "3.10.8"
  }
 },
 "nbformat": 4,
 "nbformat_minor": 5
}
